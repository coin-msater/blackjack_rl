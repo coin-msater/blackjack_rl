{
 "cells": [
  {
   "cell_type": "code",
   "execution_count": 2,
   "id": "8fc0db78",
   "metadata": {},
   "outputs": [],
   "source": [
    "import sys, os\n",
    "sys.path.append(os.path.abspath('..'))\n",
    "\n",
    "from envs import BlackjackEnv, CARD_DECK, CARD_VALUES\n",
    "import numpy as np\n",
    "import seaborn as sns"
   ]
  },
  {
   "cell_type": "code",
   "execution_count": null,
   "id": "9315afce",
   "metadata": {},
   "outputs": [],
   "source": [
    "## Initialize \n",
    "n_decks = 1\n",
    "env = BlackjackEnv()\n",
    "Q = np.zeros((32 * 2 * 11, env.action_space.n))\n",
    "gamma = 1\n",
    "alpha = 0.1\n",
    "epsilon = 1\n",
    "epsilon_decay = 0.99\n",
    "min_epsilon = 0.05"
   ]
  },
  {
   "cell_type": "code",
   "execution_count": null,
   "id": "cb6281bb",
   "metadata": {},
   "outputs": [],
   "source": [
    "## Functions\n",
    "def update_q_table(state, action, reward, next_state): # state is a dict\n",
    "    # extract and unpack obs\n",
    "    a, b, c = list(state.values())\n",
    "    na, nb, nc = list(next_state.values())\n",
    "\n",
    "    # update table\n",
    "    old_value = Q[(a, b, c), action]\n",
    "    next_max = max(Q[(na, nb, nc)])\n",
    "    Q[a, b, c, action] = (1 - alpha) * old_value + alpha * (reward + gamma * next_max)\n",
    "\n",
    "def epsilon_greedy(state):\n",
    "    # implement the condition to explore\n",
    "    if np.random.rand() < epsilon:\n",
    "      \t# choose a random action\n",
    "        action = env.action_space.sample()\n",
    "    else:\n",
    "      \t# choose the best action according to Q\n",
    "        a, b, c = list(state.values())\n",
    "        action = np.argmax(Q[a, b, c])\n",
    "    return action"
   ]
  },
  {
   "cell_type": "code",
   "execution_count": 5,
   "id": "6f4b7ae6",
   "metadata": {},
   "outputs": [],
   "source": [
    "## Training loop\n",
    "n_episodes = 1000000\n",
    "episode_returns = []\n",
    "\n",
    "for episode in range(n_episodes):\n",
    "    state, info = env.reset()\n",
    "    episode_reward = 0\n",
    "    terminated = False\n",
    "\n",
    "    while not terminated:\n",
    "        action = epsilon_greedy(state)\n",
    "        new_state, reward, terminated, truncated, info = env.step(action)\n",
    "        update_q_table(state, action, reward, new_state)\n",
    "        state = new_state\n",
    "\n",
    "    epsilon = max(min_epsilon, epsilon * epsilon_decay)\n",
    "    episode_returns.append(reward)"
   ]
  },
  {
   "cell_type": "code",
   "execution_count": 6,
   "id": "263916ac",
   "metadata": {},
   "outputs": [
    {
     "data": {
      "text/plain": [
       "<Axes: >"
      ]
     },
     "execution_count": 6,
     "metadata": {},
     "output_type": "execute_result"
    },
    {
     "data": {
      "image/png": "[encoded data removed]",
      "text/plain": [
       "<Figure size 640x480 with 1 Axes>"
      ]
     },
     "metadata": {},
     "output_type": "display_data"
    }
   ],
   "source": [
    "## Evaluation\n",
    "n_groups = 10\n",
    "n_episodes_per_group = n_episodes // n_groups\n",
    "avg_rewards_over_time  = []\n",
    "for i in range(1, n_groups + 1):\n",
    "    average_reward = episode_returns[(i-1) * n_episodes_per_group : i * n_episodes_per_group]\n",
    "    avg_rewards_over_time.append(average_reward)\n",
    "\n",
    "sns.barplot(data = avg_rewards_over_time, errorbar = None)"
   ]
  }
 ],
 "metadata": {
  "kernelspec": {
   "display_name": "Python 3",
   "language": "python",
   "name": "python3"
  },
  "language_info": {
   "codemirror_mode": {
    "name": "ipython",
    "version": 3
   },
   "file_extension": ".py",
   "mimetype": "text/x-python",
   "name": "python",
   "nbconvert_exporter": "python",
   "pygments_lexer": "ipython3",
   "version": "3.10.11"
  }
 },
 "nbformat": 4,
 "nbformat_minor": 5
}
